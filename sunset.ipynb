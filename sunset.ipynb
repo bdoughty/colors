{
 "cells": [
  {
   "cell_type": "code",
   "execution_count": 4,
   "id": "97b2f6fc",
   "metadata": {},
   "outputs": [],
   "source": [
    "import seaborn as sns \n",
    "from matplotlib import pyplot as plt\n",
    "import numpy as np\n",
    "\n",
    "from matplotlib.colors import LinearSegmentedColormap\n",
    "from matplotlib.cm import register_cmap"
   ]
  },
  {
   "cell_type": "code",
   "execution_count": 11,
   "id": "9888c3bf",
   "metadata": {},
   "outputs": [
    {
     "data": {
      "image/png": "[encoded data removed]",
      "text/plain": [
       "<Figure size 3600x72 with 1 Axes>"
      ]
     },
     "metadata": {
      "needs_background": "light"
     },
     "output_type": "display_data"
    }
   ],
   "source": [
    "# sunset colors\n",
    "gradient = ['#54679b', '#8c8ec2', '#baaed3', '#efc4bb', '#ffc9aa', '#ffd79a']\n",
    "\n",
    "# relative positions\n",
    "# trying uniform for now, could possibly change this?\n",
    "gradpos = np.linspace(0, 1, len(gradient))\n",
    "\n",
    "# create and register colormap\n",
    "cmap = LinearSegmentedColormap.from_list(\"sunset\", list(zip(gradpos, gradient)))\n",
    "register_cmap(\"sunset\", cmap)\n",
    "\n",
    "# show colormap\n",
    "palette = sns.color_palette(\"sunset\", n_colors=50)\n",
    "sns.palplot(palette)\n",
    "\n",
    "plt.savefig('sunset_palette.png')"
   ]
  },
  {
   "cell_type": "code",
   "execution_count": null,
   "id": "4fdafcf5",
   "metadata": {},
   "outputs": [],
   "source": []
  }
 ],
 "metadata": {
  "kernelspec": {
   "display_name": "Python 3 (ipykernel)",
   "language": "python",
   "name": "python3"
  },
  "language_info": {
   "codemirror_mode": {
    "name": "ipython",
    "version": 3
   },
   "file_extension": ".py",
   "mimetype": "text/x-python",
   "name": "python",
   "nbconvert_exporter": "python",
   "pygments_lexer": "ipython3",
   "version": "3.8.3"
  }
 },
 "nbformat": 4,
 "nbformat_minor": 5
}
